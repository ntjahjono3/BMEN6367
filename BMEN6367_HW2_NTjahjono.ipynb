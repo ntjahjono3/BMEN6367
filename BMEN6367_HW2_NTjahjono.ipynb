{
  "nbformat": 4,
  "nbformat_minor": 0,
  "metadata": {
    "colab": {
      "provenance": [],
      "authorship_tag": "ABX9TyPz6gM+uf/t9VmI8xmiQwTX",
      "include_colab_link": true
    },
    "kernelspec": {
      "name": "python3",
      "display_name": "Python 3"
    },
    "language_info": {
      "name": "python"
    }
  },
  "cells": [
    {
      "cell_type": "markdown",
      "metadata": {
        "id": "view-in-github",
        "colab_type": "text"
      },
      "source": [
        "<a href=\"https://colab.research.google.com/github/ntjahjono3/BMEN6367/blob/main/BMEN6367_HW2_NTjahjono.ipynb\" target=\"_parent\"><img src=\"https://colab.research.google.com/assets/colab-badge.svg\" alt=\"Open In Colab\"/></a>"
      ]
    },
    {
      "cell_type": "code",
      "execution_count": null,
      "metadata": {
        "id": "SOoH8yr_HPOZ"
      },
      "outputs": [],
      "source": [
        "# Part 2\n",
        "import os\n",
        "import cv2 as cv\n",
        "from google.colab.patches import cv2_imshow # for image display\n",
        "from skimage import io\n",
        "import matplotlib.pylab as plt\n",
        "from scipy import ndimage, datasets\n",
        "import numpy.fft\n",
        "from google.colab import drive\n",
        "#from PIL import Image\n",
        "#import numpy as np\n",
        "\n",
        "# accessing files in Google Drive from Google Colab\n",
        "# drive.mount('/content/gdrive')        # run once to mount Google Drive\n",
        "# read image from my Google Drive\n",
        "img = cv.imread('/content/gdrive/MyDrive/BMEN6367_HW2_images/MRI_Eye.jpg')\n",
        "fig, ([ax1,ax2],[ax3,ax4],[ax5,ax6]) = plt.subplots(3, 2)  # create figure with 2 subplots (1 x 2)\n",
        "ax1.imshow(img)                       # show image form Google Drive in figure 1 panel 1\n",
        "ax1.set_title('Eye MRI from Google Drive')\n",
        "\n",
        "# accessing files in GitHub from Google Colab\n",
        "# !git clone https://github.com/ntjahjono3/BMEN6367.git images      # run once to clone GitHub repository\n",
        "img2 = cv.imread('images/MRI_Brain.jpg')\n",
        "ax2.imshow(img2)\n",
        "ax2.set_title('Brain MRI from GitHub Repo')\n",
        "# plt.show()\n",
        "\n",
        "# part 3\n",
        "# apply a gaussian filter to the MRI Eye image from google drive\n",
        "img_fg = ndimage.gaussian_filter(img, sigma=4)    # gaussian filter for image smoothing\n",
        "ax3.imshow(img)\n",
        "ax3.set_title('Original')\n",
        "ax4.imshow(img_fg)\n",
        "ax4.set_title('Gaussian Filtered')\n",
        "\n",
        "# apply a laplace filter to the MRI Brain image from GitHub Repo\n",
        "input = cv.cvtColor(img2, cv.COLOR_BGR2GRAY)\n",
        "img_lp = ndimage.laplace(img2, mode='nearest')\n",
        "ax5.imshow(img2)\n",
        "ax5.set_title('Original')\n",
        "ax6.imshow(img_lp)\n",
        "ax6.set_title('Laplace Filtered')\n",
        "#cv2_imshow(img_lp)\n",
        "#cv2_imshow(img2)\n",
        "\n",
        "# apply a median filter on a Ultrasound Renal Artery image form Google Drive\n",
        "img3 = cv.imread('/content/gdrive/MyDrive/BMEN6367_HW2_images/US_Artery.jpg')\n",
        "cv2_imshow(img3)\n",
        "\n",
        "plt.show()"
      ]
    }
  ]
}